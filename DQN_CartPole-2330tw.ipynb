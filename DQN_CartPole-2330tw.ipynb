{
 "metadata": {
  "kernelspec": {
   "display_name": "Python 2",
   "language": "python",
   "name": "python2"
  },
  "language_info": {
   "codemirror_mode": {
    "name": "ipython",
    "version": 2
   },
   "file_extension": ".py",
   "mimetype": "text/x-python",
   "name": "python",
   "nbconvert_exporter": "python",
   "pygments_lexer": "ipython2",
   "version": "2.7.10"
  },
  "name": "",
  "signature": "sha256:66cf2d46c1e5d9165800b85c47fb2cbede9f3afca9c334b65bd804c16a3e9ce0"
 },
 "nbformat": 3,
 "nbformat_minor": 0,
 "worksheets": [
  {
   "cells": [
    {
     "cell_type": "heading",
     "level": 1,
     "metadata": {},
     "source": [
      "\u53c3\u8003\u81ea https://zhuanlan.zhihu.com/p/21477488"
     ]
    },
    {
     "cell_type": "code",
     "collapsed": true,
     "input": [
      "import gym\n",
      "import tensorflow as tf\n",
      "import numpy as np\n",
      "import random\n",
      "from collections import deque\n",
      "\n",
      "from yahoo_finance import Share\n",
      "import datetime"
     ],
     "language": "python",
     "metadata": {},
     "outputs": [],
     "prompt_number": 1
    },
    {
     "cell_type": "code",
     "collapsed": true,
     "input": [
      "day_len = 15   # \u6bcf\u7b46\u8cc7\u6599\u7684\u65e5\u671f\u5929\u6578"
     ],
     "language": "python",
     "metadata": {},
     "outputs": [],
     "prompt_number": 2
    },
    {
     "cell_type": "code",
     "collapsed": false,
     "input": [
      "stock = Share('2330.TW')\n",
      "today = datetime.date.today()\n",
      "stock_data = stock.get_historical('2015-01-01', str(today))\n",
      "print '\u6b77\u53f2\u8cc7\u6599\u7b46\u6578' , len(stock_data)\n",
      "stock_data.reverse() # \u53cd\u8f49\u8cc7\u6599"
     ],
     "language": "python",
     "metadata": {},
     "outputs": [
      {
       "output_type": "stream",
       "stream": "stdout",
       "text": [
        "\u6b77\u53f2\u8cc7\u6599\u7b46\u6578 423\n"
       ]
      }
     ],
     "prompt_number": 3
    },
    {
     "cell_type": "code",
     "collapsed": false,
     "input": [
      "# \u6e05\u9664\u6b77\u53f2\u4e2d\u7684\u7121\u4ea4\u6613\u8cc7\u6599\n",
      "i = 0\n",
      "while( i < len(stock_data)):\n",
      "    if (int(stock_data[i].get('Volume')) <= 0):\n",
      "        stock_data.remove(stock_data[i])\n",
      "        i = -1\n",
      "    i += 1\n",
      "target_length = (len(stock_data)*4)//5\n",
      "print '\u53bb\u96640\u4ea4\u6613\u91cf\u7684\u8cc7\u6599\u7b46\u6578', len(stock_data)\n",
      "print 'Target length for estimating full reward: ', target_length"
     ],
     "language": "python",
     "metadata": {},
     "outputs": [
      {
       "output_type": "stream",
       "stream": "stdout",
       "text": [
        "\u53bb\u96640\u4ea4\u6613\u91cf\u7684\u8cc7\u6599\u7b46\u6578 392\n",
        "Target length for estimating full reward:  313\n"
       ]
      }
     ],
     "prompt_number": 4
    },
    {
     "cell_type": "code",
     "collapsed": false,
     "input": [
      "my_train = np.zeros((target_length-day_len, day_len), dtype=np.float)\n",
      "my_train"
     ],
     "language": "python",
     "metadata": {},
     "outputs": [
      {
       "metadata": {},
       "output_type": "pyout",
       "prompt_number": 5,
       "text": [
        "array([[ 0.,  0.,  0., ...,  0.,  0.,  0.],\n",
        "       [ 0.,  0.,  0., ...,  0.,  0.,  0.],\n",
        "       [ 0.,  0.,  0., ...,  0.,  0.,  0.],\n",
        "       ..., \n",
        "       [ 0.,  0.,  0., ...,  0.,  0.,  0.],\n",
        "       [ 0.,  0.,  0., ...,  0.,  0.,  0.],\n",
        "       [ 0.,  0.,  0., ...,  0.,  0.,  0.]])"
       ]
      }
     ],
     "prompt_number": 5
    },
    {
     "cell_type": "heading",
     "level": 3,
     "metadata": {},
     "source": [
      "\u8a2d\u5b9a\u8a13\u7df4\u8cc7\u6599"
     ]
    },
    {
     "cell_type": "code",
     "collapsed": false,
     "input": [
      "for i in range(0, len(my_train)):\n",
      "    for j in range(0, day_len):\n",
      "        my_train[i,j] = float(stock_data[i+j].get('Close'))\n",
      "        #my_train[i,j] = data_rsi[i+j]\n",
      "print my_train\n",
      "\n",
      "train_full_reward = 0.\n",
      "test_full_reward = 0.\n",
      "for i in xrange(len(my_train)-1):\n",
      "    train_full_reward += abs(my_train[i+1][day_len-1]-my_train[i][day_len-1])\n",
      "\n",
      "for i in xrange():\n",
      "    test_full_reward += \n",
      "    \n",
      "print 'Full reward for training data shall be: ', full_reward"
     ],
     "language": "python",
     "metadata": {},
     "outputs": [
      {
       "output_type": "stream",
       "stream": "stdout",
       "text": [
        "[[ 139.5  133.5  134.  ...,  141.   140.   145. ]\n",
        " [ 133.5  134.   138.  ...,  140.   145.   145. ]\n",
        " [ 134.   138.   134.  ...,  145.   145.   147. ]\n",
        " ..., \n",
        " [ 159.   159.   161.5 ...,  159.5  158.   157.5]\n",
        " [ 159.   161.5  162.  ...,  158.   157.5  154. ]\n",
        " [ 161.5  162.   158.5 ...,  157.5  154.   157. ]]\n",
        "Full reward for training data shall be:  504.0\n"
       ]
      }
     ],
     "prompt_number": 6
    },
    {
     "cell_type": "code",
     "collapsed": true,
     "input": [
      "class TWStock():\n",
      "    def __init__(self, stock_data):\n",
      "        self.stock_data = stock_data\n",
      "        self.stock_index = 0\n",
      "    \n",
      "    def render(self):\n",
      "        # \u5c1a\u672a\u5be6\u4f5c\n",
      "        return \n",
      "    \n",
      "    def reset(self):\n",
      "        self.stock_index = 0\n",
      "        return self.stock_data[self.stock_index]\n",
      "    \n",
      "    # 0: \u89c0\u671b, 1: \u6301\u6709\u591a\u55ae, 2: \u6301\u6709\u7a7a\u55ae\n",
      "    def step(self, action): \n",
      "        self.stock_index += 1\n",
      "        action_reward = self.stock_data[self.stock_index][day_len-1] - self.stock_data[self.stock_index][day_len-2] \n",
      "        if (action == 0):\n",
      "            action_reward = 0\n",
      "        if (action == 2):\n",
      "            action_reward = -1 * action_reward\n",
      "\n",
      "        stock_done = False\n",
      "        if self.stock_index >= len(self.stock_data)-1:\n",
      "            stock_done = True\n",
      "        else:\n",
      "            stock_done = False\n",
      "        return self.stock_data[self.stock_index], action_reward, stock_done, 0"
     ],
     "language": "python",
     "metadata": {},
     "outputs": [],
     "prompt_number": null
    },
    {
     "cell_type": "heading",
     "level": 3,
     "metadata": {},
     "source": [
      "\u8f09\u5165\u8cc7\u6599"
     ]
    },
    {
     "cell_type": "code",
     "collapsed": false,
     "input": [
      "# Hyper Parameters for DQN\n",
      "GAMMA = 0.9 # discount factor for target Q\n",
      "INITIAL_EPSILON = 0.5 # starting value of epsilon\n",
      "FINAL_EPSILON = 0.01 # final value of epsilon\n",
      "REPLAY_SIZE = 10000 # experience replay buffer size\n",
      "BATCH_SIZE = 32 # size of minibatch\n",
      "\n",
      "class DQN():\n",
      "  # DQN Agent\n",
      "  def __init__(self, env):\n",
      "    # init experience replay\n",
      "    self.replay_buffer = deque()\n",
      "\n",
      "    # init some parameters\n",
      "    self.time_step = 0\n",
      "    self.epsilon = INITIAL_EPSILON\n",
      "    \n",
      "    #self.state_dim = env.observation_space.shape[0]\n",
      "    #self.action_dim = env.action_space.n\n",
      "    \n",
      "    self.state_dim = day_len\n",
      "    self.action_dim = 3\n",
      "\n",
      "\n",
      "    self.create_Q_network()\n",
      "    self.create_training_method()\n",
      "\n",
      "    # Init session\n",
      "    self.session = tf.InteractiveSession()\n",
      "    self.session.run(tf.initialize_all_variables())\n",
      "\n",
      "  def create_Q_network(self):\n",
      "    # network weights\n",
      "    W1 = self.weight_variable([self.state_dim, 20])\n",
      "    b1 = self.bias_variable([20])\n",
      "    W2 = self.weight_variable([20, self.action_dim])\n",
      "    b2 = self.bias_variable([self.action_dim])\n",
      "    # input layer\n",
      "    self.state_input = tf.placeholder(\"float\",[None,self.state_dim])\n",
      "    # hidden layers\n",
      "    h_layer = tf.nn.relu(tf.matmul(self.state_input,W1) + b1)\n",
      "    # Q Value layer\n",
      "    self.Q_value = tf.matmul(h_layer,W2) + b2\n",
      "\n",
      "  def create_training_method(self):\n",
      "    self.action_input = tf.placeholder(\"float\",[None,self.action_dim])\n",
      "    # one hot presentation\n",
      "    self.y_input = tf.placeholder(\"float\",[None])\n",
      "    Q_action = tf.reduce_sum(tf.mul(self.Q_value,self.action_input),reduction_indices = 1)\n",
      "    self.cost = tf.reduce_mean(tf.square(self.y_input - Q_action))\n",
      "    self.optimizer = tf.train.AdamOptimizer(0.0001).minimize(self.cost)\n",
      "\n",
      "  def perceive(self,state,action,reward,next_state,done):\n",
      "    one_hot_action = np.zeros(self.action_dim)\n",
      "    one_hot_action[action] = 1\n",
      "    self.replay_buffer.append((state,one_hot_action,reward,next_state,done))\n",
      "\n",
      "    if len(self.replay_buffer) > REPLAY_SIZE:\n",
      "      self.replay_buffer.popleft()\n",
      "\n",
      "    if len(self.replay_buffer) > BATCH_SIZE:\n",
      "      self.train_Q_network()\n",
      "\n",
      "  def train_Q_network(self):\n",
      "    self.time_step += 1\n",
      "\n",
      "    # Step 1: obtain random minibatch from replay memory\n",
      "    minibatch = random.sample(self.replay_buffer,BATCH_SIZE)\n",
      "    state_batch = [data[0] for data in minibatch]\n",
      "    action_batch = [data[1] for data in minibatch]\n",
      "    reward_batch = [data[2] for data in minibatch]\n",
      "    next_state_batch = [data[3] for data in minibatch]\n",
      "\n",
      "    # Step 2: calculate y\n",
      "    y_batch = []\n",
      "    Q_value_batch = self.Q_value.eval(feed_dict={self.state_input:next_state_batch})\n",
      "\n",
      "    for i in range(0,BATCH_SIZE):\n",
      "        done = minibatch[i][4]\n",
      "        if done:\n",
      "            y_batch.append(reward_batch[i])\n",
      "        else :\n",
      "            y_batch.append(reward_batch[i] + GAMMA * np.max(Q_value_batch[i]))\n",
      "\n",
      "    self.optimizer.run(feed_dict={\n",
      "      self.y_input:y_batch,\n",
      "      self.action_input:action_batch,\n",
      "      self.state_input:state_batch\n",
      "      })\n",
      "\n",
      "\n",
      "  def egreedy_action(self,state):\n",
      "    Q_value = self.Q_value.eval(feed_dict = {\n",
      "      self.state_input:[state]})[0]\n",
      "    if random.random() <= self.epsilon:\n",
      "      return random.randint(0,self.action_dim - 1)\n",
      "    else:\n",
      "      return np.argmax(Q_value)\n",
      "\n",
      "    self.epsilon -= (INITIAL_EPSILON - FINAL_EPSILON)/10000\n",
      "\n",
      "\n",
      "  def action(self,state):\n",
      "    return np.argmax(self.Q_value.eval(feed_dict = {\n",
      "      self.state_input:[state]})[0])\n",
      "\n",
      "\n",
      "  def weight_variable(self,shape):\n",
      "    initial = tf.truncated_normal(shape)\n",
      "    return tf.Variable(initial)\n",
      "\n",
      "  def bias_variable(self,shape):\n",
      "    initial = tf.constant(0.01, shape = shape)\n",
      "    return tf.Variable(initial)\n",
      "\n",
      "# ---------------------------------------------------------\n",
      " # Hyper Parameters\n",
      "ENV_NAME = 'CartPole-v0'\n",
      "EPISODE = 10000 # Episode limitation\n",
      "STEP = 1000   #300 # Step limitation in an episode\n",
      "TEST = 10 # The number of experiment test every 100 episode\n",
      "\n",
      "\n",
      "def main():\n",
      "\n",
      "  # initialize OpenAI Gym env and dqn agent\n",
      "  #env = gym.make(ENV_NAME)\n",
      "  env = TWStock(my_train) \n",
      "  agent = DQN(env)\n",
      "\n",
      "  print '\u958b\u59cb\u57f7\u884c'\n",
      "  for episode in xrange(EPISODE):\n",
      "    \n",
      "    # initialize task\n",
      "    state = env.reset()\n",
      "\n",
      "    # Train\n",
      "    for step in xrange(STEP):\n",
      "      action = agent.egreedy_action(state) # e-greedy action for trai\n",
      "        \n",
      "      next_state,reward,done,_ = env.step(action)\n",
      "    \n",
      "      # Define reward for agent\n",
      "      reward_agent = -1 if done else 0.1\n",
      "      agent.perceive(state,action,reward,next_state,done)\n",
      "      state = next_state\n",
      "      if done:\n",
      "        break\n",
      " \n",
      "    # Test every 100 episodes\n",
      "    if episode % 100 == 0:\n",
      "      total_reward = 0\n",
      "\n",
      "      for i in xrange(TEST):\n",
      "        state = env.reset()\n",
      "\n",
      "        for j in xrange(STEP):\n",
      "          env.render()\n",
      "          action = agent.action(state)   # direct action for test\n",
      "          state,reward,done,_ = env.step(action)\n",
      "          total_reward += reward\n",
      "          if done:\n",
      "            break\n",
      "\n",
      "      ave_reward = total_reward/TEST\n",
      "      print 'episode: ',episode,'Evaluation Average Reward:',ave_reward\n",
      "      if ave_reward >= 200:\n",
      "        print '\u7a0b\u5f0f\u7d50\u675f' \n",
      "        break\n",
      "    \n",
      "\n",
      "if __name__ == '__main__':\n",
      "  main()"
     ],
     "language": "python",
     "metadata": {},
     "outputs": [
      {
       "output_type": "stream",
       "stream": "stdout",
       "text": [
        "\u958b\u59cb\u57f7\u884c\n",
        "episode:  0 Evaluation Average Reward: -32.0\n",
        "episode:  100 Evaluation Average Reward: 24.0\n",
        "episode:  200 Evaluation Average Reward: 41.0\n",
        "episode:  300 Evaluation Average Reward: 12.0\n",
        "episode:  400 Evaluation Average Reward: 21.5\n",
        "episode:  500 Evaluation Average Reward: 24.0\n",
        "episode:  600 Evaluation Average Reward: 13.5\n",
        "episode:  700 Evaluation Average Reward: 46.5\n",
        "episode:  800 Evaluation Average Reward: 17.5\n",
        "episode:  900 Evaluation Average Reward: 68.0\n",
        "episode:  1000 Evaluation Average Reward: 56.5\n",
        "episode:  1100 Evaluation Average Reward: 71.0\n",
        "episode:  1200 Evaluation Average Reward: 73.0\n",
        "episode:  1300 Evaluation Average Reward: 128.0\n",
        "episode: "
       ]
      }
     ],
     "prompt_number": null
    },
    {
     "cell_type": "code",
     "collapsed": false,
     "input": [],
     "language": "python",
     "metadata": {},
     "outputs": [],
     "prompt_number": null
    }
   ],
   "metadata": {}
  }
 ]
}